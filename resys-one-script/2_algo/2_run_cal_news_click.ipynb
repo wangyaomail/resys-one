{
 "cells": [
  {
   "cell_type": "markdown",
   "metadata": {
    "collapsed": true,
    "pycharm": {
     "name": "#%% md\n"
    }
   },
   "source": [
    "获取用户的行为日志并计算到点击文章上"
   ]
  },
  {
   "cell_type": "code",
   "execution_count": 1,
   "outputs": [
    {
     "data": {
      "text/plain": "{b'd': {'name': b'd:',\n  'max_versions': 1,\n  'compression': b'NONE',\n  'in_memory': False,\n  'bloom_filter_type': b'NONE',\n  'bloom_filter_vector_size': 0,\n  'bloom_filter_nb_hashes': 0,\n  'block_cache_enabled': False,\n  'time_to_live': 2147483647}}"
     },
     "execution_count": 1,
     "metadata": {},
     "output_type": "execute_result"
    }
   ],
   "source": [
    "import happybase\n",
    "def fresh_hbase(table=\"user_list_click\"):\n",
    "    conn = happybase.Connection('192.168.17.150', autoconnect=True)\n",
    "    conn.open()\n",
    "    table = conn.table(table)\n",
    "    return table,conn\n",
    "table,conn = fresh_hbase()\n",
    "table.families()"
   ],
   "metadata": {
    "collapsed": false,
    "pycharm": {
     "name": "#%%\n"
    }
   }
  },
  {
   "cell_type": "code",
   "execution_count": null,
   "outputs": [],
   "source": [
    "# TODO 2021-12-14\n",
    "# 暂时先到这里吧，不写了\n",
    "# 后面有时间再补\n"
   ],
   "metadata": {
    "collapsed": false,
    "pycharm": {
     "name": "#%%\n"
    }
   }
  }
 ],
 "metadata": {
  "kernelspec": {
   "display_name": "Python 3",
   "language": "python",
   "name": "python3"
  },
  "language_info": {
   "codemirror_mode": {
    "name": "ipython",
    "version": 2
   },
   "file_extension": ".py",
   "mimetype": "text/x-python",
   "name": "python",
   "nbconvert_exporter": "python",
   "pygments_lexer": "ipython2",
   "version": "2.7.6"
  }
 },
 "nbformat": 4,
 "nbformat_minor": 0
}
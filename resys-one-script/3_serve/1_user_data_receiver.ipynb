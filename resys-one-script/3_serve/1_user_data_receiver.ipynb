{
 "cells": [
  {
   "cell_type": "markdown",
   "metadata": {
    "collapsed": true,
    "pycharm": {
     "name": "#%% md\n"
    }
   },
   "source": [
    "使用kafka接收，使用这种方式更简单灵活性更好"
   ]
  },
  {
   "cell_type": "code",
   "execution_count": 1,
   "outputs": [
    {
     "data": {
      "text/plain": "{'kafka_servers': 'localhost:9092',\n 'kafka_topic': 'user_list_click',\n 'hbase_table': 'user_list_click',\n 'hive_db': 'resys_one',\n 'hive_table': 'user_list_click'}"
     },
     "execution_count": 1,
     "metadata": {},
     "output_type": "execute_result"
    }
   ],
   "source": [
    "class Conf:\n",
    "    pass\n",
    "conf = Conf()\n",
    "conf.kafka_servers = \"localhost:9092\"\n",
    "conf.kafka_topic = \"user_list_click\"\n",
    "conf.hbase_table = \"user_list_click\"\n",
    "conf.hive_db = \"resys_one\"\n",
    "conf.hive_table = \"user_list_click\"\n",
    "conf.__dict__"
   ],
   "metadata": {
    "collapsed": false,
    "pycharm": {
     "name": "#%%\n"
    }
   }
  },
  {
   "cell_type": "code",
   "source": [
    "import time\n",
    "import happybase\n",
    "import json\n",
    "conn = happybase.Connection('localhost', autoconnect=True)\n",
    "conn.open()\n",
    "table = conn.table(conf.hbase_table)\n",
    "def parse_save_hbase(line):\n",
    "    jobj = json.loads(line)\n",
    "    table.put(row=jobj['id'],\n",
    "              data={\n",
    "                    \"d:click\":jobj['click'],\n",
    "                    \"d:clickTime\":time.strftime('%Y-%m-%d-%H-%M-%S',time.localtime(jobj['clickTime']/1000)),\n",
    "                    \"d:list\":\",\".join(jobj['list']),\n",
    "                    \"d:recid\":jobj['recid'],\n",
    "                    \"d:userid\":jobj['userid'],\n",
    "              },\n",
    "              timestamp=1,\n",
    "              wal=False)"
   ],
   "metadata": {
    "collapsed": false,
    "pycharm": {
     "name": "#%%\n"
    }
   },
   "execution_count": 2,
   "outputs": []
  },
  {
   "cell_type": "code",
   "execution_count": null,
   "outputs": [
    {
     "name": "stdout",
     "output_type": "stream",
     "text": [
      "user_list_click:0:134: key=b'2021121458193900089-400039135' value=b'{\"click\":\"400039135\",\"clickTime\":1639470479781,\"id\":\"2021121458193900089-400039135\",\"list\":[\"400039135\",\"410302787\",\"410590524\",\"410616400\",\"460075096\",\"461087263\",\"470262695\",\"470424986\",\"470745270\",\"470925586\",\"470930435\",\"471152864\",\"471278143\",\"471421737\",\"471755645\"],\"recid\":\"2021121458193900089\",\"userid\":\"0000000001\"}'\n",
      "user_list_click:0:135: key=b'2021121458193900089-410590524' value=b'{\"click\":\"410590524\",\"clickTime\":1639470481996,\"id\":\"2021121458193900089-410590524\",\"list\":[\"400039135\",\"410302787\",\"410590524\",\"410616400\",\"460075096\",\"461087263\",\"470262695\",\"470424986\",\"470745270\",\"470925586\",\"470930435\",\"471152864\",\"471278143\",\"471421737\",\"471755645\"],\"recid\":\"2021121458193900089\",\"userid\":\"0000000001\"}'\n",
      "user_list_click:0:136: key=b'2021121458193900089-461087263' value=b'{\"click\":\"461087263\",\"clickTime\":1639470483939,\"id\":\"2021121458193900089-461087263\",\"list\":[\"400039135\",\"410302787\",\"410590524\",\"410616400\",\"460075096\",\"461087263\",\"470262695\",\"470424986\",\"470745270\",\"470925586\",\"470930435\",\"471152864\",\"471278143\",\"471421737\",\"471755645\"],\"recid\":\"2021121458193900089\",\"userid\":\"0000000001\"}'\n"
     ]
    }
   ],
   "source": [
    "import kafka\n",
    "from kafka import KafkaConsumer\n",
    "consumer = KafkaConsumer('user_list_click', bootstrap_servers=['localhost:9092'])\n",
    "for msg,i in zip(consumer,range(1,1000)):\n",
    "    recv = \"%s:%d:%d: key=%s value=%s\" % (msg.topic, msg.partition, msg.offset, msg.key, msg.value)\n",
    "    parse_save_hbase(bytes.decode(msg.value))\n",
    "    print(recv)\n",
    "    if i %5==0:\n",
    "        break\n",
    "print(\"退出kafka连接\")\n",
    "consumer.close()"
   ],
   "metadata": {
    "collapsed": false,
    "pycharm": {
     "name": "#%%\n",
     "is_executing": true
    }
   }
  },
  {
   "cell_type": "code",
   "execution_count": null,
   "outputs": [],
   "source": [
    "conn.close()"
   ],
   "metadata": {
    "collapsed": false,
    "pycharm": {
     "name": "#%%\n"
    }
   }
  }
 ],
 "metadata": {
  "kernelspec": {
   "display_name": "Python 3",
   "language": "python",
   "name": "python3"
  },
  "language_info": {
   "codemirror_mode": {
    "name": "ipython",
    "version": 2
   },
   "file_extension": ".py",
   "mimetype": "text/x-python",
   "name": "python",
   "nbconvert_exporter": "python",
   "pygments_lexer": "ipython2",
   "version": "2.7.6"
  }
 },
 "nbformat": 4,
 "nbformat_minor": 0
}
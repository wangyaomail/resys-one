{
 "cells": [
  {
   "cell_type": "markdown",
   "source": [
    "使用python的方式从kafka读取数据太麻烦了，我们换一些简单的方式\n",
    "下面的内容全部废弃：\n",
    "\"从kafka接收用户的行为数据\n",
    "注意这里接收的过程是由spark-streaming接收到hive中，由于hive是hbase的外接表，因此相当于数据实际是保存到hbase中的\n",
    "在进行这一步前，请创建对应的hive表和hbase表，创建脚本在1_init/2_init_hbase_user_list_click.ipynb中\n",
    "该脚本可以全量运行\""
   ],
   "metadata": {
    "collapsed": false
   }
  },
  {
   "cell_type": "code",
   "execution_count": 79,
   "outputs": [
    {
     "data": {
      "text/plain": "{'kafka_servers': 'localhost:9092',\n 'kafka_topic': 'user_list_click',\n 'checkpoint_path': '/resys/checkpoint',\n 'save_path': '/resys/user_list_click',\n 'save_hbase_table': 'user_list_click',\n 'hive_db': 'resys_one',\n 'hive_table': 'user_list_click'}"
     },
     "execution_count": 79,
     "metadata": {},
     "output_type": "execute_result"
    }
   ],
   "source": [
    "class Conf:\n",
    "    pass\n",
    "\n",
    "conf = Conf()\n",
    "conf.kafka_servers = \"localhost:9092\"\n",
    "conf.kafka_topic = \"user_list_click\"\n",
    "conf.checkpoint_path = \"/resys/checkpoint\"\n",
    "conf.save_path = \"/resys/user_list_click\"\n",
    "conf.save_hbase_table = \"user_list_click\"\n",
    "conf.hive_db = \"resys_one\"\n",
    "conf.hive_table = \"user_list_click\"\n",
    "conf.__dict__"
   ],
   "metadata": {
    "collapsed": false,
    "pycharm": {
     "name": "#%%\n"
    }
   }
  },
  {
   "cell_type": "code",
   "execution_count": 45,
   "outputs": [
    {
     "name": "stderr",
     "output_type": "stream",
     "text": [
      "21/12/10 21:54:01 WARN yarn.Client: Neither spark.yarn.jars nor spark.yarn.archive is set, falling back to uploading libraries under SPARK_HOME.\n"
     ]
    },
    {
     "name": "stdout",
     "output_type": "stream",
     "text": [
      "root\n",
      " |-- key: binary (nullable = true)\n",
      " |-- value: binary (nullable = true)\n",
      " |-- topic: string (nullable = true)\n",
      " |-- partition: integer (nullable = true)\n",
      " |-- offset: long (nullable = true)\n",
      " |-- timestamp: timestamp (nullable = true)\n",
      " |-- timestampType: integer (nullable = true)\n",
      "\n",
      "None\n"
     ]
    },
    {
     "data": {
      "text/plain": "<pyspark.sql.session.SparkSession at 0x7f330f78b990>",
      "text/html": "\n            <div>\n                <p><b>SparkSession - in-memory</b></p>\n                \n        <div>\n            <p><b>SparkContext</b></p>\n\n            <p><a href=\"http://zzti:4040\">Spark UI</a></p>\n\n            <dl>\n              <dt>Version</dt>\n                <dd><code>v2.4.5</code></dd>\n              <dt>Master</dt>\n                <dd><code>yarn</code></dd>\n              <dt>AppName</dt>\n                <dd><code>user_list_click</code></dd>\n            </dl>\n        </div>\n        \n            </div>\n        "
     },
     "execution_count": 45,
     "metadata": {},
     "output_type": "execute_result"
    }
   ],
   "source": [
    "from pyspark.sql import SparkSession\n",
    "from pyspark import SparkContext, SparkConf\n",
    "\n",
    "sc = SparkContext(master=\"yarn\", appName=conf.kafka_topic)\n",
    "ss = SparkSession(sc)\n",
    "stream = ss.readStream.format(\"kafka\")\\\n",
    ".option(\"kafka.bootstrap.servers\", conf.kafka_servers)\\\n",
    ".option(\"subscribe\", conf.kafka_topic).load()\n",
    "print(stream.printSchema())\n",
    "ss"
   ],
   "metadata": {
    "collapsed": false,
    "pycharm": {
     "name": "#%%\n"
    }
   }
  },
  {
   "cell_type": "code",
   "execution_count": 7,
   "outputs": [],
   "source": [
    "# 输出到控制台打（测试用）\n",
    "if False:\n",
    "    result = stream.selectExpr(\"CAST(value AS STRING)\").writeStream\\\n",
    "    .outputMode('append').format('console').start()\n",
    "result.awaitTermination()"
   ],
   "metadata": {
    "collapsed": false,
    "pycharm": {
     "name": "#%%\n"
    }
   }
  },
  {
   "cell_type": "markdown",
   "source": [
    "试了几种方案，最可行的是下面这种，输出到HDFS，然后使用HIVE的外接表对json进行识别\n",
    "但是问题是spark以json的形式保存，会保存dataframe的完整格式，而完整格式中是带value字段的\n",
    "最后以hive读出来如下面第三段代码，这样其实还是没解决问题\n",
    "放弃spark-streaming的处理形式，使用kafka直接监听后解析存入hbase"
   ],
   "metadata": {
    "collapsed": false,
    "pycharm": {
     "name": "#%% md\n"
    }
   }
  },
  {
   "cell_type": "code",
   "execution_count": null,
   "outputs": [],
   "source": [
    "# 输出到HDFS\n",
    "result = stream.selectExpr(\"CAST(value AS STRING)\").writeStream\\\n",
    ".outputMode('append')\\\n",
    ".format(\"json\")\\\n",
    ".option(\"checkpointLocation\", conf.checkpoint_path)\\\n",
    ".option(\"path\", conf.save_path)\\\n",
    ".start()\n",
    "result.awaitTermination(timeout=10)"
   ],
   "metadata": {
    "collapsed": false,
    "pycharm": {
     "name": "#%%\n"
    }
   }
  },
  {
   "cell_type": "code",
   "execution_count": 98,
   "outputs": [],
   "source": [
    "# 尝试对hdfs的写入路径创建外接表\n",
    "from pyhive import hive\n",
    "cursor = hive.connect(\"localhost\").cursor()\n",
    "cursor.execute(\"drop table if exists hive_test.user_list_click\")\n",
    "external_sql=\"\"\"\n",
    " create external table if not exists hive_test.user_list_click(\n",
    "    value string)\n",
    " row format serde 'org.apache.hive.hcatalog.data.JsonSerDe'\n",
    " location '/resys/user_list_click'\n",
    "\"\"\"\n",
    "cursor.execute(external_sql)"
   ],
   "metadata": {
    "collapsed": false,
    "pycharm": {
     "name": "#%%\n"
    }
   }
  },
  {
   "cell_type": "code",
   "execution_count": 99,
   "outputs": [
    {
     "name": "stdout",
     "output_type": "stream",
     "text": [
      "('{\"click\":\"410133761\",\"clickTime\":1639145548368,\"id\":\"2021121043905400378-410133761\",\"list\":[\"410133761\",\"411006913\",\"460151185\",\"460176360\",\"461045872\",\"470182263\",\"470306816\",\"470349175\",\"470383278\",\"470526258\",\"470802185\",\"471025892\",\"471100833\",\"471166403\",\"471325374\"],\"recid\":\"2021121043905400378\",\"userid\":\"0000000001\"}',)\n"
     ]
    }
   ],
   "source": [
    "# 输出这个外接表的数据\n",
    "cursor.execute(\"select * from hive_test.user_list_click\")\n",
    "for row in cursor.fetchall():\n",
    "    print(row)"
   ],
   "metadata": {
    "collapsed": false,
    "pycharm": {
     "name": "#%%\n"
    }
   }
  },
  {
   "cell_type": "code",
   "execution_count": 77,
   "outputs": [
    {
     "data": {
      "text/plain": "False"
     },
     "execution_count": 77,
     "metadata": {},
     "output_type": "execute_result"
    }
   ],
   "source": [
    "stream_df = stream.selectExpr(\"CAST(value AS STRING)\")\n",
    "lines = []\n",
    "def save_row(row):\n",
    "    print(row)\n",
    "    lines.append(row['value'])\n",
    "stream_df.writeStream.foreach(save_row).start().awaitTermination(timeout=5)"
   ],
   "metadata": {
    "collapsed": false,
    "pycharm": {
     "name": "#%%\n"
    }
   }
  },
  {
   "cell_type": "code",
   "execution_count": null,
   "outputs": [],
   "source": [
    "# 这种方式有问题，不再往下深入了\n",
    "stream_df = stream.selectExpr(\"CAST(value AS STRING)\")\n",
    "batch_arr = []\n",
    "def save_batch(batch_df, batch_id):\n",
    "    batch_arr.append((batch_id, batch_df))\n",
    "    batch_df.write.format(\"hive\").mode(\"append\").saveAsTable(conf.hive_table)\n",
    "stream_df.writeStream.foreachBatch(save_batch).start().awaitTermination(timeout=10)"
   ],
   "metadata": {
    "collapsed": false,
    "pycharm": {
     "name": "#%%\n",
     "is_executing": true
    }
   }
  },
  {
   "cell_type": "code",
   "execution_count": 87,
   "outputs": [],
   "source": [
    "sc.stop()"
   ],
   "metadata": {
    "collapsed": false,
    "pycharm": {
     "name": "#%%\n"
    }
   }
  }
 ],
 "metadata": {
  "kernelspec": {
   "display_name": "Python 3",
   "language": "python",
   "name": "python3"
  },
  "language_info": {
   "codemirror_mode": {
    "name": "ipython",
    "version": 2
   },
   "file_extension": ".py",
   "mimetype": "text/x-python",
   "name": "python",
   "nbconvert_exporter": "python",
   "pygments_lexer": "ipython2",
   "version": "2.7.6"
  }
 },
 "nbformat": 4,
 "nbformat_minor": 0
}
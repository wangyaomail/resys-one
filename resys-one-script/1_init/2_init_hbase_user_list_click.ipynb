{
 "cells": [
  {
   "cell_type": "markdown",
   "metadata": {
    "collapsed": true,
    "pycharm": {
     "name": "#%% md\n"
    }
   },
   "source": [
    "初始化hbase中接收用户数据的相关库，相应的构造hive的外接表，这样我们可以通过spark-streaming绑定到hive上进行数据插入\n",
    "需要保证hbase和hive的thrift服务是启动的：\n",
    "${HBASE_HOME}/bin/hbase-daemon.sh start thrift -threadpool\n",
    "${HIVE_HOME}/bin/hive --service hiveserver2"
   ]
  },
  {
   "cell_type": "code",
   "execution_count": 1,
   "outputs": [
    {
     "data": {
      "text/plain": "{'hbase_db': 'user_list_click',\n 'hive_db': 'resys_one',\n 'hive_table': 'user_list_click'}"
     },
     "execution_count": 1,
     "metadata": {},
     "output_type": "execute_result"
    }
   ],
   "source": [
    "class Conf:\n",
    "    pass\n",
    "conf = Conf()\n",
    "conf.hbase_db = \"user_list_click\"\n",
    "conf.hive_db = \"resys_one\"\n",
    "conf.hive_table = \"user_list_click\"\n",
    "conf.__dict__"
   ],
   "metadata": {
    "collapsed": false,
    "pycharm": {
     "name": "#%%\n"
    }
   }
  },
  {
   "cell_type": "code",
   "execution_count": 8,
   "outputs": [
    {
     "data": {
      "text/plain": "['hive_test_hbase',\n 'spark',\n 'test',\n 'user_list_click',\n 'videobase_all',\n 'zzti']"
     },
     "execution_count": 8,
     "metadata": {},
     "output_type": "execute_result"
    }
   ],
   "source": [
    "# 首先构建这个hbase数据库和对应的hive外接表\n",
    "import happybase\n",
    "conn = happybase.Connection('localhost', autoconnect=True)\n",
    "conn.open()\n",
    "table_list = [ t.decode() for t in conn.tables()]\n",
    "table_list"
   ],
   "metadata": {
    "collapsed": false,
    "pycharm": {
     "name": "#%%\n"
    }
   }
  },
  {
   "cell_type": "code",
   "execution_count": 9,
   "outputs": [
    {
     "data": {
      "text/plain": "{b'd': {'name': b'd:',\n  'max_versions': 1,\n  'compression': b'NONE',\n  'in_memory': False,\n  'bloom_filter_type': b'NONE',\n  'bloom_filter_vector_size': 0,\n  'bloom_filter_nb_hashes': 0,\n  'block_cache_enabled': False,\n  'time_to_live': 2147483647}}"
     },
     "execution_count": 9,
     "metadata": {},
     "output_type": "execute_result"
    }
   ],
   "source": [
    "if conf.hbase_db not in table_list:\n",
    "    conn.create_table(conf.hbase_db, {'d': dict(max_versions=1, block_cache_enabled=False)})\n",
    "table = conn.table(conf.hbase_db)\n",
    "table.families()"
   ],
   "metadata": {
    "collapsed": false,
    "pycharm": {
     "name": "#%%\n"
    }
   }
  },
  {
   "cell_type": "code",
   "execution_count": 10,
   "outputs": [
    {
     "data": {
      "text/plain": "<pyhive.hive.Cursor at 0x7f46408cb510>"
     },
     "execution_count": 10,
     "metadata": {},
     "output_type": "execute_result"
    }
   ],
   "source": [
    "# 创建这个hbase库对应的hive表\n",
    "from pyhive import hive\n",
    "cursor = hive.connect(\"localhost\").cursor()\n",
    "cursor"
   ],
   "metadata": {
    "collapsed": false,
    "pycharm": {
     "name": "#%%\n"
    }
   }
  },
  {
   "cell_type": "markdown",
   "source": [
    "user_list_click向kafka传递的数据格式为：\n",
    "{\n",
    "    \"click\":\"470030960\", # 保存用户点击的文章\n",
    "    \"clickTime\":1639130181018, # 点击行为发生的时间戳\n",
    "    \"id\":\"2021121056279100961-470030960\", # 这一次点击行为的id号，该id号是独立，且符合字典序排序的\n",
    "    \"list\":[\"410057990\",\"410240504\",\"410449868\",\"410500249\",\"410553196\",\"410925946\",\"411194717\",\"470030960\",\"470162792\",\"470216246\",\"470300594\",\"470595946\",\"470899479\",\"470917063\",\"471752404\"], # 用户点击这个文章的时候，呈现的文章是什么\n",
    "    \"recid\":\"2021121056279100961\", # 每一次推荐，都会有一个recid，用户可能多次点击，但recid是不变的\n",
    "    \"userid\":\"0000000001\" # 用户的id号\n",
    "}\n"
   ],
   "metadata": {
    "collapsed": false,
    "pycharm": {
     "name": "#%% md\n"
    }
   }
  },
  {
   "cell_type": "code",
   "execution_count": 12,
   "outputs": [],
   "source": [
    "# 如果需要的话，先删了之前的表\n",
    "cursor.execute(\"drop table if exists {0}.{1}\".format(conf.hive_db, conf.hive_table))"
   ],
   "metadata": {
    "collapsed": false,
    "pycharm": {
     "name": "#%%\n"
    }
   }
  },
  {
   "cell_type": "code",
   "execution_count": 13,
   "outputs": [
    {
     "name": "stdout",
     "output_type": "stream",
     "text": [
      "\n",
      " create external table if not exists resys_one.user_list_click (\n",
      "    id string,\n",
      "    click string,\n",
      "    clickTime string,\n",
      "    list string,\n",
      "    recid string,\n",
      "    userid string)\n",
      " STORED BY 'org.apache.hadoop.hive.hbase.HBaseStorageHandler'\n",
      " WITH SERDEPROPERTIES (\"hbase.columns.mapping\" = \"d:click,\n",
      "                                                  d:clickTime,\n",
      "                                                  d:list,\n",
      "                                                  d:recid,\n",
      "                                                  d:userid\")\n",
      " TBLPROPERTIES(\"hbase.table.name\" = \"user_list_click\")\n",
      "\n"
     ]
    }
   ],
   "source": [
    "# 创建外链表，为了便于后续操作，hive中保存的都是字符串，至于字段含义，可以后续进行处理\n",
    "cursor.execute(\"create database if not exists \" + conf.hive_db )\n",
    "external_sql=\"\"\"\n",
    " create external table if not exists {0}.{1} (\n",
    "    id string,\n",
    "    click string,\n",
    "    clickTime string,\n",
    "    list string,\n",
    "    recid string,\n",
    "    userid string)\n",
    " STORED BY 'org.apache.hadoop.hive.hbase.HBaseStorageHandler'\n",
    " WITH SERDEPROPERTIES (\"hbase.columns.mapping\" = \"d:click,\n",
    "                                                  d:clickTime,\n",
    "                                                  d:list,\n",
    "                                                  d:recid,\n",
    "                                                  d:userid\")\n",
    " TBLPROPERTIES(\"hbase.table.name\" = \"{2}\")\n",
    "\"\"\".format(conf.hive_db, conf.hive_table, conf.hbase_db)\n",
    "print(external_sql)\n",
    "cursor.execute(external_sql)"
   ],
   "metadata": {
    "collapsed": false,
    "pycharm": {
     "name": "#%%\n"
    }
   }
  },
  {
   "cell_type": "markdown",
   "source": [
    "这里没有设计模拟数据的环节，但也可以进行数据模拟"
   ],
   "metadata": {
    "collapsed": false,
    "pycharm": {
     "name": "#%% md\n"
    }
   }
  },
  {
   "cell_type": "code",
   "execution_count": 15,
   "outputs": [],
   "source": [
    "conn.close()\n",
    "cursor.close()"
   ],
   "metadata": {
    "collapsed": false,
    "pycharm": {
     "name": "#%%\n"
    }
   }
  },
  {
   "cell_type": "markdown",
   "source": [],
   "metadata": {
    "collapsed": false
   }
  }
 ],
 "metadata": {
  "kernelspec": {
   "display_name": "Python 3",
   "language": "python",
   "name": "python3"
  },
  "language_info": {
   "codemirror_mode": {
    "name": "ipython",
    "version": 2
   },
   "file_extension": ".py",
   "mimetype": "text/x-python",
   "name": "python",
   "nbconvert_exporter": "python",
   "pygments_lexer": "ipython2",
   "version": "2.7.6"
  }
 },
 "nbformat": 4,
 "nbformat_minor": 0
}
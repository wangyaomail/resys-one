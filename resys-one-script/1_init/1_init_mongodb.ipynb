{
 "cells": [
  {
   "cell_type": "markdown",
   "source": [
    "初始化mongodb库"
   ],
   "metadata": {
    "collapsed": false,
    "pycharm": {
     "name": "#%% md\n"
    }
   }
  },
  {
   "cell_type": "code",
   "execution_count": 1,
   "outputs": [
    {
     "data": {
      "text/plain": "{'mongo_host': 'localhost:27017',\n 'db_name': 'resys-one-test',\n 'article_path': '/data/zzti/run/test/news2016zh_1000.json'}"
     },
     "execution_count": 1,
     "metadata": {},
     "output_type": "execute_result"
    }
   ],
   "source": [
    "# 配置项，请将这些配置项改为数据库的实际情况并运行整个文件\n",
    "class Conf:\n",
    "    pass\n",
    "conf = Conf()\n",
    "conf.mongo_host = \"localhost:27017\"\n",
    "conf.db_name = \"resys-one-test\"\n",
    "conf.article_path = \"/data/zzti/run/test/news2016zh_1000.json\"\n",
    "conf.__dict__"
   ],
   "metadata": {
    "collapsed": false,
    "pycharm": {
     "name": "#%%\n"
    }
   }
  },
  {
   "cell_type": "code",
   "execution_count": 3,
   "outputs": [
    {
     "name": "stdout",
     "output_type": "stream",
     "text": [
      "0.5591651040928589\n"
     ]
    },
    {
     "data": {
      "text/plain": "['admin', 'config', 'local', 'resys-one', 'test']"
     },
     "execution_count": 3,
     "metadata": {},
     "output_type": "execute_result"
    }
   ],
   "source": [
    "import time\n",
    "import pymongo\n",
    "import random\n",
    "print(random.random())\n",
    "mgconn = pymongo.MongoClient(\"mongodb://\" + conf.mongo_host + \"/\")\n",
    "mgconn.list_database_names()"
   ],
   "metadata": {
    "collapsed": false,
    "pycharm": {
     "name": "#%%\n"
    }
   }
  },
  {
   "cell_type": "code",
   "execution_count": 5,
   "outputs": [
    {
     "name": "stdout",
     "output_type": "stream",
     "text": [
      "[]\n"
     ]
    }
   ],
   "source": [
    "db = mgconn.get_database(conf.db_name)\n",
    "print(db.list_collection_names())"
   ],
   "metadata": {
    "collapsed": false,
    "pycharm": {
     "name": "#%%\n"
    }
   }
  },
  {
   "cell_type": "code",
   "execution_count": 6,
   "outputs": [
    {
     "name": "stdout",
     "output_type": "stream",
     "text": [
      "2021-01-01 00:00:01\n"
     ]
    },
    {
     "data": {
      "text/plain": "{'hb_user_groups': [{'_id': 'system',\n   '_class': 'xmt.resys.user.bean.mongo.HBUserGroup',\n   'roles': ['role_staff'],\n   'leader': {'$ref': 'hb_users', '$id': '12479083317097'},\n   'name': '管理组',\n   'feature': '系统管理员，能够使用系统所有功能'},\n  {'_id': 'staff',\n   '_class': 'xmt.resys.user.bean.mongo.HBUserGroup',\n   'roles': ['role_staff'],\n   'leader': {'$ref': 'hb_users', '$id': ''},\n   'name': '内部成员',\n   'feature': '内部成员，能够使用本系统一般功能'}],\n 'hb_users': [{'_id': '0000000001',\n   '_class': 'xmt.resys.user.bean.mongo.HBUser',\n   'userName': 'zhangsan',\n   'regDate': datetime.datetime(2021, 1, 1, 0, 0, 1),\n   'lastPasswordResetDate': datetime.datetime(2021, 1, 1, 0, 0, 1),\n   'password': '76583b32193512b8be7c1287ccde3896',\n   'valid': True,\n   'roles': ['role_admin', 'role_staff'],\n   'group': ['system', 'staff'],\n   'modules': ['b_all'],\n   'gender': '男',\n   'profile': '百家姓的张,一二三的三',\n   'lastLoginDate': datetime.datetime(2021, 1, 1, 0, 0, 1),\n   'lastLoginIp': '0:0:0:0:0:0:0:1',\n   'totalLoginTime': 2712},\n  {'_id': '匿名用户',\n   '_class': 'xmt.resys.user.bean.mongo.HBUser',\n   'userName': '匿名用户',\n   'valid': False,\n   'roles': [],\n   'group': []}],\n 'hb_tags': [{'_id': '题材',\n   'w': 1.0,\n   'parent': 'root',\n   '_class': 'xmt.resys.content.bean.mongo.HBTag'},\n  {'_id': '河南',\n   'w': 1.0,\n   'parent': '省份',\n   '_class': 'xmt.resys.content.bean.mongo.HBTag'},\n  {'_id': '中央',\n   'w': 1.0,\n   'parent': '省份',\n   '_class': 'xmt.resys.content.bean.mongo.HBTag'},\n  {'_id': '北京',\n   'w': 1.0,\n   'parent': '省份',\n   '_class': 'xmt.resys.content.bean.mongo.HBTag'},\n  {'_id': '陕西',\n   'w': 1.0,\n   'parent': '省份',\n   '_class': 'xmt.resys.content.bean.mongo.HBTag'},\n  {'_id': '四川',\n   'w': 0.3,\n   'parent': '省份',\n   '_class': 'xmt.resys.content.bean.mongo.HBTag'},\n  {'_id': '浙江',\n   'w': 0.3,\n   'parent': '省份',\n   '_class': 'xmt.resys.content.bean.mongo.HBTag'},\n  {'_id': '湖北',\n   'w': 0.3,\n   'parent': '省份',\n   '_class': 'xmt.resys.content.bean.mongo.HBTag'},\n  {'_id': '湖南',\n   'w': 0.3,\n   'parent': '省份',\n   '_class': 'xmt.resys.content.bean.mongo.HBTag'},\n  {'_id': '省份',\n   'w': 0.3,\n   'parent': 'root',\n   '_class': 'xmt.resys.content.bean.mongo.HBTag'},\n  {'_id': '娱乐',\n   'w': 0.3,\n   'parent': '题材',\n   '_class': 'xmt.resys.content.bean.mongo.HBTag'},\n  {'_id': '冒险',\n   'w': 0.3,\n   'parent': '题材',\n   '_class': 'xmt.resys.content.bean.mongo.HBTag'},\n  {'_id': '山西',\n   'w': 0.3,\n   'parent': '省份',\n   '_class': 'xmt.resys.content.bean.mongo.HBTag'},\n  {'_id': '社会',\n   'w': 0.8,\n   'parent': '题材',\n   '_class': 'xmt.resys.content.bean.mongo.HBTag'},\n  {'_id': '新冠肺炎',\n   'w': 1.0,\n   'parent': '热度',\n   '_class': 'xmt.resys.content.bean.mongo.HBTag'}],\n 'hb_roles': [{'_id': 'role_staff',\n   'name': '成员',\n   '_class': 'xmt.resys.user.bean.HBRole',\n   'modules': [],\n   'jwt': 'ROLE_ADMIN'},\n  {'_id': 'role_admin',\n   'name': '管理员',\n   '_class': 'xmt.resys.user.bean.HBRole',\n   'modules': ['b_all']}],\n 'hb_modules': [{'_id': 'b_all',\n   '_class': 'xmt.resys.user.bean.mongo.HBModule',\n   'name': '后台所有接口',\n   'urls': [{'url': '/*/b/**', 'method': 'ALL'}],\n   'feature': '这个接口可以访问系统所有权限',\n   'record': True,\n   'category': '历史权限-接口'},\n  {'_id': 'no_auth',\n   'name': '无需登录接口',\n   'record': False,\n   'category': '历史权限-接口',\n   'urls': [{'url': '/*/b/auth/token/login', 'method': 'POST'},\n    {'url': '/*/f/**', 'method': 'POST'},\n    {'url': '/*/f/**', 'method': 'GET'},\n    {'url': '/*/f/**', 'method': 'PUT'}],\n   'feature': '配置在这里的接口不需要用户有任何权限',\n   'vn': 1,\n   '_class': 'xmt.resys.user.bean.mongo.HBModule'}],\n 'hb_article_categorys': [{'_id': '来源',\n   'parent': 'root',\n   '_class': 'xmt.resys.content.bean.mongo.HBArticleCategory'},\n  {'_id': '来源-测试',\n   'parent': '来源',\n   '_class': 'xmt.resys.content.bean.mongo.HBArticleCategory'}]}"
     },
     "execution_count": 6,
     "metadata": {},
     "output_type": "execute_result"
    }
   ],
   "source": [
    "# 初始化需要的数据集\n",
    "from dateutil import parser\n",
    "insert_date_str = \"2021-01-01 00:00:01\"\n",
    "insert_date = parser.parse(insert_date_str)\n",
    "print(insert_date)\n",
    "\n",
    "data_to_upsert = dict()\n",
    "data_to_upsert[\"hb_user_groups\"] = [\n",
    "    {\n",
    "        \"_id\": \"system\",\n",
    "        \"_class\": \"xmt.resys.user.bean.mongo.HBUserGroup\",\n",
    "        \"roles\": [\n",
    "            \"role_staff\"\n",
    "        ],\n",
    "        \"leader\": {\n",
    "            \"$ref\": \"hb_users\",\n",
    "            \"$id\": \"12479083317097\"\n",
    "        },\n",
    "        \"name\": \"管理组\",\n",
    "        \"feature\": \"系统管理员，能够使用系统所有功能\"\n",
    "    },\n",
    "    {\n",
    "        \"_id\": \"staff\",\n",
    "        \"_class\": \"xmt.resys.user.bean.mongo.HBUserGroup\",\n",
    "        \"roles\": [\n",
    "            \"role_staff\"\n",
    "        ],\n",
    "        \"leader\": {\n",
    "            \"$ref\": \"hb_users\",\n",
    "            \"$id\": \"\"\n",
    "        },\n",
    "        \"name\": \"内部成员\",\n",
    "        \"feature\": \"内部成员，能够使用本系统一般功能\"\n",
    "    }\n",
    "]\n",
    "data_to_upsert[\"hb_users\"] = [\n",
    "    {\n",
    "        \"_id\": \"0000000001\",\n",
    "        \"_class\": \"xmt.resys.user.bean.mongo.HBUser\",\n",
    "        \"userName\": \"zhangsan\",\n",
    "        \"regDate\": insert_date,\n",
    "        \"lastPasswordResetDate\": insert_date,\n",
    "        \"password\": \"76583b32193512b8be7c1287ccde3896\",\n",
    "        \"valid\": True,\n",
    "        \"roles\": [\n",
    "            \"role_admin\",\n",
    "            \"role_staff\"\n",
    "        ],\n",
    "        \"group\": [\n",
    "            \"system\",\n",
    "            \"staff\"\n",
    "        ],\n",
    "        \"modules\": [\n",
    "            \"b_all\"\n",
    "        ],\n",
    "        \"gender\": \"男\",\n",
    "        \"profile\": \"百家姓的张,一二三的三\",\n",
    "        \"lastLoginDate\": insert_date,\n",
    "        \"lastLoginIp\": \"0:0:0:0:0:0:0:1\",\n",
    "        \"totalLoginTime\": 2712\n",
    "    },\n",
    "    {\n",
    "        \"_id\": \"匿名用户\",\n",
    "        \"_class\": \"xmt.resys.user.bean.mongo.HBUser\",\n",
    "        \"userName\": \"匿名用户\",\n",
    "        \"valid\": False,\n",
    "        \"roles\": [],\n",
    "        \"group\": []\n",
    "    }\n",
    "]\n",
    "data_to_upsert[\"hb_tags\"] = [\n",
    "    {\n",
    "        \"_id\": \"题材\",\n",
    "        \"w\": 1.0,\n",
    "        \"parent\": \"root\",\n",
    "        \"_class\": \"xmt.resys.content.bean.mongo.HBTag\"\n",
    "    },\n",
    "    {\n",
    "        \"_id\": \"河南\",\n",
    "        \"w\": 1.0,\n",
    "        \"parent\": \"省份\",\n",
    "        \"_class\": \"xmt.resys.content.bean.mongo.HBTag\"\n",
    "    },\n",
    "    {\n",
    "        \"_id\": \"中央\",\n",
    "        \"w\": 1.0,\n",
    "        \"parent\": \"省份\",\n",
    "        \"_class\": \"xmt.resys.content.bean.mongo.HBTag\"\n",
    "    },\n",
    "    {\n",
    "        \"_id\": \"北京\",\n",
    "        \"w\": 1.0,\n",
    "        \"parent\": \"省份\",\n",
    "        \"_class\": \"xmt.resys.content.bean.mongo.HBTag\"\n",
    "    },\n",
    "    {\n",
    "        \"_id\": \"陕西\",\n",
    "        \"w\": 1.0,\n",
    "        \"parent\": \"省份\",\n",
    "        \"_class\": \"xmt.resys.content.bean.mongo.HBTag\"\n",
    "    },\n",
    "    {\n",
    "        \"_id\": \"四川\",\n",
    "        \"w\": 0.3,\n",
    "        \"parent\": \"省份\",\n",
    "        \"_class\": \"xmt.resys.content.bean.mongo.HBTag\"\n",
    "    },\n",
    "    {\n",
    "        \"_id\": \"浙江\",\n",
    "        \"w\": 0.3,\n",
    "        \"parent\": \"省份\",\n",
    "        \"_class\": \"xmt.resys.content.bean.mongo.HBTag\"\n",
    "    },\n",
    "    {\n",
    "        \"_id\": \"湖北\",\n",
    "        \"w\": 0.3,\n",
    "        \"parent\": \"省份\",\n",
    "        \"_class\": \"xmt.resys.content.bean.mongo.HBTag\"\n",
    "    },\n",
    "    {\n",
    "        \"_id\": \"湖南\",\n",
    "        \"w\": 0.3,\n",
    "        \"parent\": \"省份\",\n",
    "        \"_class\": \"xmt.resys.content.bean.mongo.HBTag\"\n",
    "    },\n",
    "    {\n",
    "        \"_id\": \"省份\",\n",
    "        \"w\": 0.3,\n",
    "        \"parent\": \"root\",\n",
    "        \"_class\": \"xmt.resys.content.bean.mongo.HBTag\"\n",
    "    },\n",
    "    {\n",
    "        \"_id\": \"娱乐\",\n",
    "        \"w\": 0.3,\n",
    "        \"parent\": \"题材\",\n",
    "        \"_class\": \"xmt.resys.content.bean.mongo.HBTag\"\n",
    "    },\n",
    "    {\n",
    "        \"_id\": \"冒险\",\n",
    "        \"w\": 0.3,\n",
    "        \"parent\": \"题材\",\n",
    "        \"_class\": \"xmt.resys.content.bean.mongo.HBTag\"\n",
    "    },\n",
    "    {\n",
    "        \"_id\": \"山西\",\n",
    "        \"w\": 0.3,\n",
    "        \"parent\": \"省份\",\n",
    "        \"_class\": \"xmt.resys.content.bean.mongo.HBTag\"\n",
    "    },\n",
    "    {\n",
    "        \"_id\": \"社会\",\n",
    "        \"w\": 0.8,\n",
    "        \"parent\": \"题材\",\n",
    "        \"_class\": \"xmt.resys.content.bean.mongo.HBTag\"\n",
    "    },\n",
    "    {\n",
    "        \"_id\": \"新冠肺炎\",\n",
    "        \"w\": 1.0,\n",
    "        \"parent\": \"热度\",\n",
    "        \"_class\": \"xmt.resys.content.bean.mongo.HBTag\"\n",
    "    }\n",
    "]\n",
    "data_to_upsert[\"hb_roles\"] = [\n",
    "    {\n",
    "        \"_id\": \"role_staff\",\n",
    "        \"name\": \"成员\",\n",
    "        \"_class\": \"xmt.resys.user.bean.HBRole\",\n",
    "        \"modules\": [],\n",
    "        \"jwt\": \"ROLE_ADMIN\"\n",
    "    },\n",
    "    {\n",
    "        \"_id\": \"role_admin\",\n",
    "        \"name\": \"管理员\",\n",
    "        \"_class\": \"xmt.resys.user.bean.HBRole\",\n",
    "        \"modules\": [\n",
    "            \"b_all\"\n",
    "        ]\n",
    "    }\n",
    "]\n",
    "data_to_upsert[\"hb_modules\"] = [\n",
    "    {\n",
    "        \"_id\": \"b_all\",\n",
    "        \"_class\": \"xmt.resys.user.bean.mongo.HBModule\",\n",
    "        \"name\": \"后台所有接口\",\n",
    "        \"urls\": [\n",
    "            {\n",
    "                \"url\": \"/*/b/**\",\n",
    "                \"method\": \"ALL\"\n",
    "            }\n",
    "        ],\n",
    "        \"feature\": \"这个接口可以访问系统所有权限\",\n",
    "        \"record\": True,\n",
    "        \"category\": \"历史权限-接口\"\n",
    "    },\n",
    "    {\n",
    "        \"_id\": \"no_auth\",\n",
    "        \"name\": \"无需登录接口\",\n",
    "        \"record\": False,\n",
    "        \"category\": \"历史权限-接口\",\n",
    "        \"urls\": [\n",
    "            {\n",
    "                \"url\": \"/*/b/auth/token/login\",\n",
    "                \"method\": \"POST\"\n",
    "            },\n",
    "            {\n",
    "                \"url\": \"/*/f/**\",\n",
    "                \"method\": \"POST\"\n",
    "            },\n",
    "            {\n",
    "                \"url\": \"/*/f/**\",\n",
    "                \"method\": \"GET\"\n",
    "            },\n",
    "            {\n",
    "                \"url\": \"/*/f/**\",\n",
    "                \"method\": \"PUT\"\n",
    "            }\n",
    "        ],\n",
    "        \"feature\": \"配置在这里的接口不需要用户有任何权限\",\n",
    "        \"vn\": 1,\n",
    "        \"_class\": \"xmt.resys.user.bean.mongo.HBModule\"\n",
    "    }\n",
    "]\n",
    "data_to_upsert[\"hb_article_categorys\"] = [\n",
    "    {\n",
    "        \"_id\": \"来源\",\n",
    "        \"parent\": \"root\",\n",
    "        \"_class\": \"xmt.resys.content.bean.mongo.HBArticleCategory\"\n",
    "    },\n",
    "    {\n",
    "        \"_id\": \"来源-测试\",\n",
    "        \"parent\": \"来源\",\n",
    "        \"_class\": \"xmt.resys.content.bean.mongo.HBArticleCategory\"\n",
    "    }\n",
    "]\n",
    "data_to_upsert"
   ],
   "metadata": {
    "collapsed": false,
    "pycharm": {
     "name": "#%%\n"
    }
   }
  },
  {
   "cell_type": "code",
   "execution_count": 7,
   "outputs": [
    {
     "name": "stdout",
     "output_type": "stream",
     "text": [
      "更新完毕\n"
     ]
    }
   ],
   "source": [
    "# 更新\n",
    "for collections in data_to_upsert:\n",
    "    col = db.get_collection(collections)\n",
    "    for json in data_to_upsert[collections]:\n",
    "        if col.find_one({\"_id\":json[\"_id\"]}) is None:\n",
    "            col.insert_one(json)\n",
    "print(\"更新完毕\")"
   ],
   "metadata": {
    "collapsed": false,
    "pycharm": {
     "name": "#%%\n"
    }
   }
  },
  {
   "cell_type": "code",
   "execution_count": 8,
   "outputs": [
    {
     "name": "stdout",
     "output_type": "stream",
     "text": [
      "插入完毕\n"
     ]
    }
   ],
   "source": [
    "# 使用json的方式插入文章数据\n",
    "article_template = {\n",
    "    \"_id\" : \"0000000000\",\n",
    "    \"title\" : \"0000000000\",\n",
    "    \"content\" : \"0000000000\",\n",
    "    \"state\" : 0,\n",
    "    \"createTime\" : insert_date,\n",
    "    \"updateTime\" : insert_date,\n",
    "    \"publishTime\" : insert_date,\n",
    "    \"source\" : \"0000000000\",\n",
    "    \"articleAuthor\" : \"zhangsan\",\n",
    "    \"categorys\" : [\n",
    "        \"来源-测试\"\n",
    "    ],\n",
    "    \"clickNum\" : 0,\n",
    "    \"qualityScore\" : 0.0,\n",
    "    \"_class\" : \"xmt.resys.content.bean.mongo.HBArticle\"\n",
    "}\n",
    "\n",
    "import json\n",
    "article_col = db.get_collection(\"hb_articles\")\n",
    "article_col.drop()\n",
    "for line,i in zip(open(conf.article_path, mode='r', encoding=\"utf8\"), range(10000)):\n",
    "    doc_src = json.loads(line)\n",
    "    article_insert = article_template.copy()\n",
    "    article_insert[\"_id\"]=doc_src[\"news_id\"]\n",
    "    article_insert[\"title\"]=doc_src[\"title\"]\n",
    "    article_insert[\"source\"]=doc_src[\"source\"]\n",
    "    article_insert[\"content\"]=doc_src[\"content\"]\n",
    "    article_insert[\"createTime\"]=parser.parse(\"2016-\"+doc_src[\"time\"])\n",
    "    article_insert[\"updateTime\"]=parser.parse(\"2016-\"+doc_src[\"time\"])\n",
    "    article_insert[\"publishTime\"]=parser.parse(\"2016-\"+doc_src[\"time\"])\n",
    "    article_col.insert_one(article_insert)\n",
    "print(\"插入完毕\")"
   ],
   "metadata": {
    "collapsed": false,
    "pycharm": {
     "name": "#%%\n"
    }
   }
  },
  {
   "cell_type": "code",
   "execution_count": 20,
   "outputs": [
    {
     "data": {
      "text/plain": "     news_id                    keywords  \\\n0  470308283        借鉴：这篇最受欢迎校训，没有一个字讲学习   \n1  410240504       市民淘宝购物一年四度被忽悠 买货容易退货难   \n2  410933104  [统计]机械.电器类公司市场表现(20150407)   \n\n                                                desc  \\\n0  “我知道，我不是因为偶然才来到这个世界，我是为了践行一个平凡、美丽、无私的梦想而来的；我是为...   \n1  张女士提供豆皮有虫尸的证据照片。受访者供图淘宝上购物，一年被忽悠四次。这样的事情就被市民张女...   \n2  @名称代码收盘价日涨跌周涨跌月涨跌季涨跌深华新0000100.0000.00%0.00%0....   \n\n                        title          source         time  \\\n0        借鉴：这篇最受欢迎校训，没有一个字讲学习            龙乡教育  10-14 21:55   \n1       市民淘宝购物一年四度被忽悠 买货容易退货难  主流媒体-媒体平台入驻自媒体  03-24 14:13   \n2  [统计]机械.电器类公司市场表现(20150407)          移动中金在线  04-08 06:40   \n\n                                             content  \n0  “我知道，我不是因为偶然才来到这个世界，我是为了践行一个平凡、美丽、无私的梦想而来的；我是为...  \n1   张女士提供豆皮有虫尸的证据照片。受访者供图淘宝上购物，一年被忽悠四次。这样的事情就被市民张...  \n2  @名称代码收盘价日涨跌周涨跌月涨跌季涨跌深华新0000100.0000.00%0.00%0....  ",
      "text/html": "<div>\n<style scoped>\n    .dataframe tbody tr th:only-of-type {\n        vertical-align: middle;\n    }\n\n    .dataframe tbody tr th {\n        vertical-align: top;\n    }\n\n    .dataframe thead th {\n        text-align: right;\n    }\n</style>\n<table border=\"1\" class=\"dataframe\">\n  <thead>\n    <tr style=\"text-align: right;\">\n      <th></th>\n      <th>news_id</th>\n      <th>keywords</th>\n      <th>desc</th>\n      <th>title</th>\n      <th>source</th>\n      <th>time</th>\n      <th>content</th>\n    </tr>\n  </thead>\n  <tbody>\n    <tr>\n      <th>0</th>\n      <td>470308283</td>\n      <td>借鉴：这篇最受欢迎校训，没有一个字讲学习</td>\n      <td>“我知道，我不是因为偶然才来到这个世界，我是为了践行一个平凡、美丽、无私的梦想而来的；我是为...</td>\n      <td>借鉴：这篇最受欢迎校训，没有一个字讲学习</td>\n      <td>龙乡教育</td>\n      <td>10-14 21:55</td>\n      <td>“我知道，我不是因为偶然才来到这个世界，我是为了践行一个平凡、美丽、无私的梦想而来的；我是为...</td>\n    </tr>\n    <tr>\n      <th>1</th>\n      <td>410240504</td>\n      <td>市民淘宝购物一年四度被忽悠 买货容易退货难</td>\n      <td>张女士提供豆皮有虫尸的证据照片。受访者供图淘宝上购物，一年被忽悠四次。这样的事情就被市民张女...</td>\n      <td>市民淘宝购物一年四度被忽悠 买货容易退货难</td>\n      <td>主流媒体-媒体平台入驻自媒体</td>\n      <td>03-24 14:13</td>\n      <td>张女士提供豆皮有虫尸的证据照片。受访者供图淘宝上购物，一年被忽悠四次。这样的事情就被市民张...</td>\n    </tr>\n    <tr>\n      <th>2</th>\n      <td>410933104</td>\n      <td>[统计]机械.电器类公司市场表现(20150407)</td>\n      <td>@名称代码收盘价日涨跌周涨跌月涨跌季涨跌深华新0000100.0000.00%0.00%0....</td>\n      <td>[统计]机械.电器类公司市场表现(20150407)</td>\n      <td>移动中金在线</td>\n      <td>04-08 06:40</td>\n      <td>@名称代码收盘价日涨跌周涨跌月涨跌季涨跌深华新0000100.0000.00%0.00%0....</td>\n    </tr>\n  </tbody>\n</table>\n</div>"
     },
     "execution_count": 20,
     "metadata": {},
     "output_type": "execute_result"
    }
   ],
   "source": [
    "# 还可以通过pandas插入数据更方便，后面分析可以和sparkSQL的DataFrame对比\n",
    "import pandas as pd\n",
    "data_pd = pd.read_json(conf.article_path, lines=True)\n",
    "data_pd.head(3)"
   ],
   "metadata": {
    "collapsed": false,
    "pycharm": {
     "name": "#%%\n"
    }
   }
  },
  {
   "cell_type": "code",
   "execution_count": 25,
   "outputs": [
    {
     "name": "stdout",
     "output_type": "stream",
     "text": [
      "插入完毕\n"
     ]
    }
   ],
   "source": [
    "article_col = db.get_collection(\"hb_articles\")\n",
    "article_col.drop()\n",
    "for i, row in data_pd.iterrows():\n",
    "    article_insert = article_template.copy()\n",
    "    article_insert[\"_id\"]=row[\"news_id\"]\n",
    "    article_insert[\"title\"]=row[\"title\"]\n",
    "    article_insert[\"source\"]=row[\"source\"]\n",
    "    article_insert[\"content\"]=row[\"content\"]\n",
    "    article_insert[\"createTime\"]=parser.parse(\"2016-\"+row[\"time\"])\n",
    "    article_insert[\"updateTime\"]=parser.parse(\"2016-\"+row[\"time\"])\n",
    "    article_insert[\"publishTime\"]=parser.parse(\"2016-\"+row[\"time\"])\n",
    "    article_col.insert_one(article_insert)\n",
    "print(\"插入完毕\")"
   ],
   "metadata": {
    "collapsed": false,
    "pycharm": {
     "name": "#%%\n"
    }
   }
  },
  {
   "cell_type": "code",
   "execution_count": null,
   "outputs": [],
   "source": [
    "\n",
    "\n",
    "\n"
   ],
   "metadata": {
    "collapsed": false,
    "pycharm": {
     "name": "#%%\n"
    }
   }
  },
  {
   "cell_type": "code",
   "execution_count": null,
   "outputs": [],
   "source": [],
   "metadata": {
    "collapsed": false,
    "pycharm": {
     "name": "#%%\n"
    }
   }
  }
 ],
 "metadata": {
  "kernelspec": {
   "display_name": "Python 3",
   "language": "python",
   "name": "python3"
  },
  "language_info": {
   "codemirror_mode": {
    "name": "ipython",
    "version": 2
   },
   "file_extension": ".py",
   "mimetype": "text/x-python",
   "name": "python",
   "nbconvert_exporter": "python",
   "pygments_lexer": "ipython2",
   "version": "2.7.6"
  }
 },
 "nbformat": 4,
 "nbformat_minor": 0
}
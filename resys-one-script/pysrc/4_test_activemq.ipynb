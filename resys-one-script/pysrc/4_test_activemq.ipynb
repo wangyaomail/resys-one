{
 "cells": [
  {
   "cell_type": "markdown",
   "source": [
    "测试activemq\n"
   ],
   "metadata": {
    "collapsed": false,
    "pycharm": {
     "name": "#%% md\n"
    }
   }
  },
  {
   "cell_type": "code",
   "execution_count": 17,
   "outputs": [
    {
     "name": "stdout",
     "output_type": "stream",
     "text": [
      "发送成功\n"
     ]
    }
   ],
   "source": [
    "import stomp\n",
    "conn = stomp.Connection10()\n",
    "conn.connect()\n",
    "for i in range(100):\n",
    "    conn.send('test_queue', str(i))\n",
    "conn.disconnect()\n",
    "print(\"发送成功\")\n",
    "\n"
   ],
   "metadata": {
    "collapsed": false,
    "pycharm": {
     "name": "#%%\n"
    }
   }
  }
 ],
 "metadata": {
  "kernelspec": {
   "display_name": "Python 3",
   "language": "python",
   "name": "python3"
  },
  "language_info": {
   "codemirror_mode": {
    "name": "ipython",
    "version": 2
   },
   "file_extension": ".py",
   "mimetype": "text/x-python",
   "name": "python",
   "nbconvert_exporter": "python",
   "pygments_lexer": "ipython2",
   "version": "2.7.6"
  }
 },
 "nbformat": 4,
 "nbformat_minor": 0
}
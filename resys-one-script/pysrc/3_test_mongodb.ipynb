{
 "cells": [
  {
   "cell_type": "markdown",
   "source": [
    "测试mongodb\n"
   ],
   "metadata": {
    "collapsed": false,
    "pycharm": {
     "name": "#%% md\n"
    }
   }
  },
  {
   "cell_type": "code",
   "execution_count": 1,
   "outputs": [
    {
     "data": {
      "text/plain": "'3.12.1'"
     },
     "execution_count": 1,
     "metadata": {},
     "output_type": "execute_result"
    }
   ],
   "source": [
    "import pymongo\n",
    "pymongo.__version__\n"
   ],
   "metadata": {
    "collapsed": false,
    "pycharm": {
     "name": "#%%\n"
    }
   }
  },
  {
   "cell_type": "code",
   "execution_count": 2,
   "outputs": [
    {
     "data": {
      "text/plain": "['admin', 'config', 'local', 'resys-one', 'test']"
     },
     "execution_count": 2,
     "metadata": {},
     "output_type": "execute_result"
    }
   ],
   "source": [
    "mgconn = pymongo.MongoClient(\"mongodb://localhost:27017/\")\n",
    "mgconn.list_database_names()\n"
   ],
   "metadata": {
    "collapsed": false,
    "pycharm": {
     "name": "#%%\n"
    }
   }
  },
  {
   "cell_type": "code",
   "execution_count": 3,
   "outputs": [
    {
     "name": "stdout",
     "output_type": "stream",
     "text": [
      "10\n",
      "{'_id': 9, 'name': 'name-9'}\n",
      "{'_id': 8, 'name': 'name-8'}\n",
      "{'_id': 7, 'name': 'name-7'}\n",
      "{'_id': 6, 'name': 'name-6'}\n",
      "{'_id': 5, 'name': 'name-5'}\n",
      "{'_id': 4, 'name': 'name-4'}\n",
      "{'_id': 3, 'name': 'name-3'}\n",
      "{'_id': 2, 'name': 'name-2'}\n",
      "{'_id': 1, 'name': 'name-1'}\n",
      "{'_id': 0, 'name': 'name-0'}\n"
     ]
    }
   ],
   "source": [
    "test_db = mgconn[\"test\"]\n",
    "# 创建集合\n",
    "test_col = test_db[\"test_collection\"]\n",
    "# 清空集合\n",
    "test_col.drop()\n",
    "# 写json\n",
    "for k in range(10):\n",
    "    test_json = {\"_id\":k, \"name\":\"name-\"+str(k)}\n",
    "    test_col.replace_one(test_json,test_json,upsert=True)\n",
    "# 读json\n",
    "print(test_col.estimated_document_count())\n",
    "# 排序json\n",
    "for doc in test_col.find().sort(\"name\", direction=pymongo.DESCENDING):\n",
    "    print(doc)"
   ],
   "metadata": {
    "collapsed": false,
    "pycharm": {
     "name": "#%%\n"
    }
   }
  },
  {
   "cell_type": "code",
   "execution_count": null,
   "outputs": [],
   "source": [
    "from pyspark import SparkContext\n",
    "sc = SparkContext(\"yarn\", \"test\")\n",
    "lines = sc.parallelize(range(10))\n",
    "result = lines.map(lambda x: x*2)\n",
    "for x in result.items():\n",
    "    print (x)"
   ],
   "metadata": {
    "collapsed": false,
    "pycharm": {
     "name": "#%%\n"
    }
   }
  },
  {
   "cell_type": "code",
   "execution_count": null,
   "outputs": [],
   "source": [
    "mgconn = pymongo.MongoClient(\"mongodb://localhost:27017/\")\n",
    "mgconn.list_database_names()\n"
   ],
   "metadata": {
    "collapsed": false,
    "pycharm": {
     "name": "#%%\n"
    }
   }
  },
  {
   "cell_type": "code",
   "execution_count": null,
   "outputs": [],
   "source": [],
   "metadata": {
    "collapsed": false,
    "pycharm": {
     "name": "#%%"
    }
   }
  },
  {
   "cell_type": "code",
   "execution_count": null,
   "outputs": [],
   "source": [],
   "metadata": {
    "collapsed": false,
    "pycharm": {
     "name": "#%%"
    }
   }
  }
 ],
 "metadata": {
  "kernelspec": {
   "display_name": "Python 3",
   "language": "python",
   "name": "python3"
  },
  "language_info": {
   "codemirror_mode": {
    "name": "ipython",
    "version": 2
   },
   "file_extension": ".py",
   "mimetype": "text/x-python",
   "name": "python",
   "nbconvert_exporter": "python",
   "pygments_lexer": "ipython2",
   "version": "2.7.6"
  }
 },
 "nbformat": 4,
 "nbformat_minor": 0
}
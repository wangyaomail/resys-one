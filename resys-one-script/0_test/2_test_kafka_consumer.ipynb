{
 "cells": [
  {
   "cell_type": "markdown",
   "source": [
    "测试kafka的接收\n",
    "控制台上可以这样接收：\n",
    "kafka-console-consumer.sh --bootstrap-server localhost:9092 --topic user_list_click --from-beginning\n"
   ],
   "metadata": {
    "collapsed": false
   }
  },
  {
   "cell_type": "code",
   "execution_count": null,
   "outputs": [],
   "source": [
    "import time\n",
    "\n",
    "import kafka\n",
    "from kafka import KafkaConsumer\n",
    "consumer = KafkaConsumer('input', bootstrap_servers=['localhost:9092'])\n",
    "for msg,i in zip(consumer,range(1,1000)):\n",
    "    recv = \"%s:%d:%d: key=%s value=%s\" % (msg.topic, msg.partition, msg.offset, msg.key, msg.value)\n",
    "    print(recv)\n",
    "    if i %200==0:\n",
    "        break\n",
    "print(\"退出kafka连接\")\n",
    "consumer.close()\n"
   ],
   "metadata": {
    "collapsed": false,
    "pycharm": {
     "name": "#%%\n"
    }
   }
  },
  {
   "cell_type": "code",
   "execution_count": null,
   "outputs": [],
   "source": [
    "from kafka import KafkaConsumer\n",
    "consumer = KafkaConsumer('testtest', bootstrap_servers=['localhost:9092'])\n",
    "for msg in consumer:\n",
    "    recv = \"%s:%d:%d: key=%s value=%s\" % (msg.topic, msg.partition, msg.offset, msg.key, msg.value)\n",
    "    print(recv)\n",
    "consumer.close()"
   ],
   "metadata": {
    "collapsed": false,
    "pycharm": {
     "name": "#%%\n"
    }
   }
  },
  {
   "cell_type": "markdown",
   "source": [
    "尝试用spark连接kafka\n",
    "注意需要将这两个jar包放在kafka的线上jars目录下：\n",
    "spark-sql-kafka-0-10_2.12-2.4.5.jar\n",
    "spark-streaming-kafka-0-10-assembly_2.12-2.4.5.jar\n",
    "下载地址：\n",
    "https://search.maven.org/artifact/org.apache.spark/spark-streaming-kafka-0-10-assembly_2.12/2.4.5/jar\n",
    "https://search.maven.org/artifact/org.apache.spark/spark-sql-kafka-0-10_2.12/2.4.5/jar\n",
    "\n"
   ],
   "metadata": {
    "collapsed": false
   }
  },
  {
   "cell_type": "code",
   "execution_count": null,
   "outputs": [],
   "source": [
    "import time\n",
    "from pyspark.sql import SparkSession\n",
    "from pyspark import SparkContext\n",
    "# 如果启动有问题，这两个环境可以强行指定，正常包不冲突时不用指定就行\n",
    "run_env ={\n",
    "    \"PYSPARK_SUBMIT_ARGS\":'--packages /zzti/libs/spark/jars/spark-sql-kafka-0-10_2.12-2.4.5.jar pyspark-shell',\n",
    "    \"SPARK_KAFKA_VERSION\":0.10\n",
    "}\n",
    "sc = SparkContext(master=\"yarn\",\n",
    "                  #environment=run_env,\n",
    "                  appName=\"test_kafka\")\n",
    "ss = SparkSession(sc)\n",
    "ss"
   ],
   "metadata": {
    "collapsed": false,
    "pycharm": {
     "name": "#%%\n"
    }
   }
  },
  {
   "cell_type": "code",
   "execution_count": null,
   "outputs": [],
   "source": [
    "print(time.time())\n",
    "stream = ss\\\n",
    "    .readStream\\\n",
    "    .format(\"kafka\")\\\n",
    "    .option(\"kafka.bootstrap.servers\", \"localhost:9092\")\\\n",
    "    .option(\"subscribe\", \"input\")\\\n",
    "    .load()\n",
    "stream"
   ],
   "metadata": {
    "collapsed": false,
    "pycharm": {
     "name": "#%%\n"
    }
   }
  },
  {
   "cell_type": "code",
   "execution_count": null,
   "outputs": [],
   "source": [
    "# 打印输入数据结构\n",
    "stream.printSchema()"
   ],
   "metadata": {
    "collapsed": false,
    "pycharm": {
     "name": "#%%\n"
    }
   }
  },
  {
   "cell_type": "code",
   "execution_count": null,
   "outputs": [],
   "source": [
    "print(time.time())\n",
    "result = stream.selectExpr(\"CAST(value AS STRING)\")\\\n",
    "    .writeStream\\\n",
    "    .outputMode('append')\\\n",
    "    .format('console')\\\n",
    "    .start()\n",
    "result.awaitTermination()"
   ],
   "metadata": {
    "collapsed": false,
    "pycharm": {
     "name": "#%%\n"
    }
   }
  },
  {
   "cell_type": "code",
   "execution_count": null,
   "outputs": [],
   "source": [
    "sc.stop()"
   ],
   "metadata": {
    "collapsed": false,
    "pycharm": {
     "name": "#%%\n"
    }
   }
  },
  {
   "cell_type": "code",
   "execution_count": 8,
   "outputs": [
    {
     "name": "stdout",
     "output_type": "stream",
     "text": [
      "end\n"
     ]
    }
   ],
   "source": [
    "print(\"end\")\n",
    "\n",
    "\n",
    "\n",
    "\n"
   ],
   "metadata": {
    "collapsed": false,
    "pycharm": {
     "name": "#%%\n"
    }
   }
  }
 ],
 "metadata": {
  "kernelspec": {
   "display_name": "Python 3",
   "language": "python",
   "name": "python3"
  },
  "language_info": {
   "codemirror_mode": {
    "name": "ipython",
    "version": 2
   },
   "file_extension": ".py",
   "mimetype": "text/x-python",
   "name": "python",
   "nbconvert_exporter": "python",
   "pygments_lexer": "ipython2",
   "version": "2.7.6"
  }
 },
 "nbformat": 4,
 "nbformat_minor": 0
}
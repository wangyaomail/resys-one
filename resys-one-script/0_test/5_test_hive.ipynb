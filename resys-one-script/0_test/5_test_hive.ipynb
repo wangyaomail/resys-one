{
 "cells": [
  {
   "cell_type": "raw",
   "metadata": {
    "collapsed": true,
    "pycharm": {
     "name": "#%% raw\n"
    }
   },
   "source": [
    "使用pyhive操作hive\n",
    "需要在服务器提前安装：\n",
    "yum install gcc-c++ cyrus-sasl-devel cyrus-sasl-gssapi cyrus-sasl-plain\n",
    "pip install sasl pyhive thrift thrift-sasl\n",
    "安装好以后，需要以服务的方式启动hive\n",
    "${HIVE_HOME}/bin/hive --service hiveserver2"
   ]
  },
  {
   "cell_type": "code",
   "execution_count": 1,
   "outputs": [
    {
     "data": {
      "text/plain": "'0.6.4'"
     },
     "execution_count": 1,
     "metadata": {},
     "output_type": "execute_result"
    }
   ],
   "source": [
    "import pyhive\n",
    "pyhive.__version__"
   ],
   "metadata": {
    "collapsed": false,
    "pycharm": {
     "name": "#%%\n"
    }
   }
  },
  {
   "cell_type": "code",
   "execution_count": 3,
   "outputs": [],
   "source": [
    "# 建立hive连接\n",
    "from pyhive import hive\n",
    "cursor = hive.connect(\"localhost\").cursor()"
   ],
   "metadata": {
    "collapsed": false,
    "pycharm": {
     "name": "#%%\n"
    }
   }
  },
  {
   "cell_type": "code",
   "execution_count": 16,
   "outputs": [
    {
     "name": "stdout",
     "output_type": "stream",
     "text": [
      "('张祥德', 'RB17101', 'RB171', '男', '1997-02-10', '11122223333', '河南省郑州市1号', '88')\n",
      "('冯成刚', 'RB17102', 'RB171', '女', '1996-10-01', '18837110115', '河南省洛阳市2号', '86')\n",
      "('卢伟兴', 'RB17103', 'RB171', '男', '1998-08-02', '19999228822', '河南省开封市3号', '95')\n",
      "('杨飞龙', 'RB17104', 'RB171', '男', '1996-08-09', '13322554455', '河南省安阳市4号', '91')\n",
      "('姜松林', 'RB17201', 'RB172', '女', '1997-01-03', '13688552244', '河南省鹤壁市1号', '75')\n",
      "('高飞', 'RB17202', 'RB172', '男', '1996-08-27', '13522114455', '河南省新乡市2号', '68')\n",
      "('何桦', 'RB17203', 'RB172', '女', '1997-12-20', '13566998855', '河南省焦作市3号', '84')\n",
      "('高天阳', 'RB17204', 'RB172', '男', '1999-11-08', '13688446622', '河南省濮阳市4号', '77')\n",
      "('周存富', 'RB17301', 'RB173', '男', '1996-05-28', '13699552658', '河南省许昌市1号', '93')\n",
      "('罗鹏', 'RB17302', 'RB173', '男', '1998-03-02', '13365298741', '河南省漯河市2号', '85')\n",
      "('宋立昌', 'RB17401', 'RB174', '男', '1995-05-28', '13596325874', '河南省南阳市3号', '81')\n",
      "('杨国胜', 'RB17402', 'RB174', '男', '1996-03-02', '13256987456', '河南省信阳市4号', '91')\n",
      "('徐子文', 'RB17403', 'RB174', '男', '1998-05-28', '13523654789', '河南省周口市5号', '85')\n",
      "('马彦', 'RB17404', 'RB174', '女', '1997-03-02', '13526845962', '河南省郑州市6号', '73')\n",
      "('', None, None, None, None, None, None, None)\n",
      "('', None, None, None, None, None, None, None)\n"
     ]
    }
   ],
   "source": [
    "# 创建外链表\n",
    "external_sql=\"\"\"\n",
    " create external table if not exists hive_test.students (\n",
    "    name string, no string, clazz string, gender string, birthday string,\n",
    "    phone string, loc string, score string )\n",
    " row format delimited fields terminated by '\\t'\n",
    " lines terminated by '\\n'\n",
    " location '/data/test/students'\n",
    "\"\"\"\n",
    "cursor.execute(external_sql)"
   ],
   "metadata": {
    "collapsed": false,
    "pycharm": {
     "name": "#%%\n"
    }
   }
  },
  {
   "cell_type": "code",
   "execution_count": null,
   "outputs": [],
   "source": [
    "# 查询外链表\n",
    "cursor.execute(\"select * from hive_test.students\")\n",
    "for row in cursor.fetchall():\n",
    "    print(row)"
   ],
   "metadata": {
    "collapsed": false,
    "pycharm": {
     "name": "#%%\n"
    }
   }
  },
  {
   "cell_type": "code",
   "execution_count": 21,
   "outputs": [],
   "source": [
    "# 创建本地表\n",
    "cursor.execute(\"create database if not exists hive_test\")\n",
    "cursor.execute(\"create table if not exists hive_test.students_local like hive_test.students\")"
   ],
   "metadata": {
    "collapsed": false,
    "pycharm": {
     "name": "#%%\n"
    }
   }
  },
  {
   "cell_type": "code",
   "execution_count": 23,
   "outputs": [],
   "source": [
    "# 从外链表中查询10条数据插入本地表\n",
    "# 注意这个操作会在yarn启动一个MR任务，所以要提前保证yarn正常运行\n",
    "cursor.execute(\"insert overwrite table hive_test.students_local select * from hive_test.students limit 10\")"
   ],
   "metadata": {
    "collapsed": false,
    "pycharm": {
     "name": "#%%\n"
    }
   }
  },
  {
   "cell_type": "code",
   "execution_count": 24,
   "outputs": [
    {
     "name": "stdout",
     "output_type": "stream",
     "text": [
      "('罗鹏', 'RB17302', 'RB173', '男', '1998-03-02', '13365298741', '河南省漯河市2号', '85')\n",
      "('周存富', 'RB17301', 'RB173', '男', '1996-05-28', '13699552658', '河南省许昌市1号', '93')\n",
      "('高天阳', 'RB17204', 'RB172', '男', '1999-11-08', '13688446622', '河南省濮阳市4号', '77')\n",
      "('何桦', 'RB17203', 'RB172', '女', '1997-12-20', '13566998855', '河南省焦作市3号', '84')\n",
      "('高飞', 'RB17202', 'RB172', '男', '1996-08-27', '13522114455', '河南省新乡市2号', '68')\n",
      "('姜松林', 'RB17201', 'RB172', '女', '1997-01-03', '13688552244', '河南省鹤壁市1号', '75')\n",
      "('杨飞龙', 'RB17104', 'RB171', '男', '1996-08-09', '13322554455', '河南省安阳市4号', '91')\n",
      "('卢伟兴', 'RB17103', 'RB171', '男', '1998-08-02', '19999228822', '河南省开封市3号', '95')\n",
      "('冯成刚', 'RB17102', 'RB171', '女', '1996-10-01', '18837110115', '河南省洛阳市2号', '86')\n",
      "('张祥德', 'RB17101', 'RB171', '男', '1997-02-10', '11122223333', '河南省郑州市1号', '88')\n"
     ]
    }
   ],
   "source": [
    "# 查询本地表\n",
    "cursor.execute(\"select * from hive_test.students_local\")\n",
    "for row in cursor.fetchall():\n",
    "    print(row)"
   ],
   "metadata": {
    "collapsed": false,
    "pycharm": {
     "name": "#%%\n"
    }
   }
  },
  {
   "cell_type": "code",
   "execution_count": 25,
   "outputs": [],
   "source": [
    "cursor.close()"
   ],
   "metadata": {
    "collapsed": false,
    "pycharm": {
     "name": "#%%\n"
    }
   }
  },
  {
   "cell_type": "code",
   "source": [
    "from pyhive import hive\n",
    "cursor = hive.connect(\"localhost\").cursor()\n",
    "cursor.execute(\"select * from test\")\n",
    "for row in cursor.fetchall():\n",
    "    print(row)"
   ],
   "metadata": {
    "collapsed": false,
    "pycharm": {
     "name": "#%%\n"
    }
   },
   "execution_count": 2,
   "outputs": [
    {
     "name": "stdout",
     "output_type": "stream",
     "text": [
      "('0', '40')\n",
      "('1', '41')\n",
      "('2', '42')\n",
      "('3', '43')\n",
      "('4', '44')\n",
      "('5', '45')\n",
      "('6', '46')\n",
      "('7', '47')\n",
      "('8', '48')\n",
      "('9', '49')\n",
      "('10', '50')\n",
      "('11', '51')\n",
      "('12', '52')\n",
      "('13', '53')\n",
      "('14', '54')\n",
      "('15', '55')\n",
      "('16', '56')\n",
      "('17', '57')\n",
      "('18', '58')\n",
      "('19', '59')\n",
      "('0', '40')\n",
      "('1', '41')\n",
      "('2', '42')\n",
      "('3', '43')\n",
      "('4', '44')\n",
      "('5', '45')\n",
      "('6', '46')\n",
      "('7', '47')\n",
      "('8', '48')\n",
      "('9', '49')\n",
      "('10', '50')\n",
      "('11', '51')\n",
      "('12', '52')\n",
      "('13', '53')\n",
      "('14', '54')\n",
      "('15', '55')\n",
      "('16', '56')\n",
      "('17', '57')\n",
      "('18', '58')\n",
      "('19', '59')\n",
      "('20', '60')\n",
      "('21', '61')\n",
      "('22', '62')\n",
      "('23', '63')\n",
      "('24', '64')\n",
      "('25', '65')\n",
      "('26', '66')\n",
      "('27', '67')\n",
      "('28', '68')\n",
      "('29', '69')\n",
      "('50', '20')\n",
      "('51', '21')\n",
      "('52', '22')\n",
      "('53', '23')\n",
      "('54', '24')\n",
      "('55', '25')\n",
      "('56', '26')\n",
      "('57', '27')\n",
      "('58', '28')\n",
      "('59', '29')\n",
      "('60', '30')\n",
      "('61', '31')\n",
      "('62', '32')\n",
      "('63', '33')\n",
      "('64', '34')\n",
      "('65', '35')\n",
      "('66', '36')\n",
      "('67', '37')\n",
      "('68', '38')\n",
      "('69', '39')\n",
      "('0', '40')\n",
      "('1', '41')\n",
      "('2', '42')\n",
      "('3', '43')\n",
      "('4', '44')\n",
      "('5', '45')\n",
      "('6', '46')\n",
      "('7', '47')\n",
      "('8', '48')\n",
      "('9', '49')\n",
      "('10', '50')\n",
      "('11', '51')\n",
      "('12', '52')\n",
      "('13', '53')\n",
      "('14', '54')\n",
      "('15', '55')\n",
      "('16', '56')\n",
      "('17', '57')\n",
      "('18', '58')\n",
      "('19', '59')\n",
      "('20', '60')\n",
      "('21', '61')\n",
      "('22', '62')\n",
      "('23', '63')\n",
      "('24', '64')\n",
      "('25', '65')\n",
      "('26', '66')\n",
      "('27', '67')\n",
      "('28', '68')\n",
      "('29', '69')\n",
      "('0', '20')\n",
      "('1', '21')\n",
      "('2', '22')\n",
      "('3', '23')\n",
      "('4', '24')\n",
      "('5', '25')\n",
      "('6', '26')\n",
      "('7', '27')\n",
      "('8', '28')\n",
      "('9', '29')\n",
      "('10', '30')\n",
      "('11', '31')\n",
      "('12', '32')\n",
      "('13', '33')\n",
      "('14', '34')\n",
      "('15', '35')\n",
      "('16', '36')\n",
      "('17', '37')\n",
      "('18', '38')\n",
      "('19', '39')\n",
      "('20', '40')\n",
      "('21', '41')\n",
      "('22', '42')\n",
      "('23', '43')\n",
      "('24', '44')\n",
      "('25', '45')\n",
      "('26', '46')\n",
      "('27', '47')\n",
      "('28', '48')\n",
      "('29', '49')\n"
     ]
    }
   ]
  }
 ],
 "metadata": {
  "kernelspec": {
   "display_name": "Python 3",
   "language": "python",
   "name": "python3"
  },
  "language_info": {
   "codemirror_mode": {
    "name": "ipython",
    "version": 2
   },
   "file_extension": ".py",
   "mimetype": "text/x-python",
   "name": "python",
   "nbconvert_exporter": "python",
   "pygments_lexer": "ipython2",
   "version": "2.7.6"
  }
 },
 "nbformat": 4,
 "nbformat_minor": 0
}
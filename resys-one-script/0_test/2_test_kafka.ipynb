{
 "cells": [
  {
   "cell_type": "markdown",
   "metadata": {
    "collapsed": true,
    "pycharm": {
     "name": "#%% md\n"
    }
   },
   "source": [
    "测试kafka"
   ]
  },
  {
   "cell_type": "code",
   "execution_count": 1,
   "outputs": [
    {
     "data": {
      "text/plain": "(1587,\n ['I',\n  'am',\n  'happy',\n  'to',\n  'join',\n  'with',\n  'you',\n  'today',\n  'in',\n  'what',\n  'will',\n  'go',\n  'down',\n  'in',\n  'history',\n  'as',\n  'the',\n  'greatest',\n  'demonstration',\n  'for',\n  'freedom',\n  'in',\n  'the',\n  'history',\n  'of',\n  'our',\n  'nation.\\n',\n  'Five',\n  'score',\n  'years',\n  'ago,',\n  'a',\n  'great',\n  'American,',\n  'in',\n  'whose',\n  'symbolic',\n  'shadow',\n  'we',\n  'stand',\n  'today,',\n  'signed',\n  'the',\n  'Emancipation',\n  'Proclamation.',\n  'This',\n  'momentous',\n  'decree',\n  'came',\n  'as',\n  'a',\n  'great',\n  'beacon',\n  'light',\n  'of',\n  'hope',\n  'to',\n  'millions',\n  'of',\n  'Negro',\n  'slaves',\n  'who',\n  'had',\n  'been',\n  'seared',\n  'in',\n  'the',\n  'flames',\n  'of',\n  'withering',\n  'injustice.',\n  'It',\n  'came',\n  'as',\n  'a',\n  'joyous',\n  'daybreak',\n  'to',\n  'end',\n  'the',\n  'long',\n  'night',\n  'of',\n  'their',\n  'captivity.\\n',\n  'But',\n  'one',\n  'hundred',\n  'years',\n  'later,',\n  'the',\n  'Negro',\n  'still',\n  'is',\n  'not',\n  'free.',\n  'One',\n  'hundred',\n  'years',\n  'later,',\n  'the',\n  'life',\n  'of',\n  'the',\n  'Negro',\n  'is',\n  'still',\n  'sadly',\n  'crippled',\n  'by',\n  'the',\n  'manacles',\n  'of',\n  'segregation',\n  'and',\n  'the',\n  'chains',\n  'of',\n  'discrimination.',\n  'One',\n  'hundred',\n  'years',\n  'later,',\n  'the',\n  'Negro',\n  'lives',\n  'on',\n  'a',\n  'lonely',\n  'island',\n  'of',\n  'poverty',\n  'in',\n  'the',\n  'midst',\n  'of',\n  'a',\n  'vast',\n  'ocean',\n  'of',\n  'material',\n  'prosperity.',\n  'One',\n  'hundred',\n  'years',\n  'later,',\n  'the',\n  'Negro',\n  'is',\n  'still',\n  'languished',\n  'in',\n  'the',\n  'corners',\n  'of',\n  'American',\n  'society',\n  'and',\n  'finds',\n  'himself',\n  'an',\n  'exile',\n  'in',\n  'his',\n  'own',\n  'land.',\n  'And',\n  'so',\n  \"we've\",\n  'come',\n  'here',\n  'today',\n  'to',\n  'dramatize',\n  'a',\n  'shameful',\n  'condition.\\n',\n  'In',\n  'a',\n  'sense',\n  \"we've\",\n  'come',\n  'to',\n  'our',\n  \"nation's\",\n  'capital',\n  'to',\n  'cash',\n  'a',\n  'check.',\n  'When',\n  'the',\n  'architects',\n  'of',\n  'our',\n  'republic',\n  'wrote',\n  'the',\n  'magnificent',\n  'words',\n  'of',\n  'the',\n  'Constitution',\n  'and',\n  'the',\n  'Declaration',\n  'of',\n  'Independence,',\n  'they',\n  'were',\n  'signing',\n  'a',\n  'promissory',\n  'note',\n  'to',\n  'which',\n  'every',\n  'American',\n  'was',\n  'to',\n  'fall',\n  'heir.',\n  'This',\n  'note',\n  'was',\n  'a',\n  'promise',\n  'that',\n  'all',\n  'men,',\n  'yes,',\n  'black',\n  'men',\n  'as',\n  'well',\n  'as',\n  'white',\n  'men,',\n  'would',\n  'be',\n  'guaranteed',\n  'the',\n  '\"unalienable',\n  'Rights\"',\n  'of',\n  '\"Life,',\n  'Liberty',\n  'and',\n  'the',\n  'pursuit',\n  'of',\n  'Happiness.\"',\n  'It',\n  'is',\n  'obvious',\n  'today',\n  'that',\n  'America',\n  'has',\n  'defaulted',\n  'on',\n  'this',\n  'promissory',\n  'note,',\n  'insofar',\n  'as',\n  'her',\n  'citizens',\n  'of',\n  'color',\n  'are',\n  'concerned.',\n  'Instead',\n  'of',\n  'honoring',\n  'this',\n  'sacred',\n  'obligation,',\n  'America',\n  'has',\n  'given',\n  'the',\n  'Negro',\n  'people',\n  'a',\n  'bad',\n  'check,',\n  'a',\n  'check',\n  'which',\n  'has',\n  'come',\n  'back',\n  'marked',\n  '\"insufficient',\n  'funds.\"\\n',\n  'But',\n  'we',\n  'refuse',\n  'to',\n  'believe',\n  'that',\n  'the',\n  'bank',\n  'of',\n  'justice',\n  'is',\n  'bankrupt.',\n  'We',\n  'refuse',\n  'to',\n  'believe',\n  'that',\n  'there',\n  'are',\n  'insufficient',\n  'funds',\n  'in',\n  'the',\n  'great',\n  'vaults',\n  'of',\n  'opportunity',\n  'of',\n  'this',\n  'nation.',\n  'And',\n  'so,',\n  \"we've\",\n  'come',\n  'to',\n  'cash',\n  'this',\n  'check,',\n  'a',\n  'check',\n  'that',\n  'will',\n  'give',\n  'us',\n  'upon',\n  'demand',\n  'the',\n  'riches',\n  'of',\n  'freedom',\n  'and',\n  'the',\n  'security',\n  'of',\n  'justice.\\n',\n  'We',\n  'have',\n  'also',\n  'come',\n  'to',\n  'this',\n  'hallowed',\n  'spot',\n  'to',\n  'remind',\n  'America',\n  'of',\n  'the',\n  'fierce',\n  'urgency',\n  'of',\n  'Now.',\n  'This',\n  'is',\n  'no',\n  'time',\n  'to',\n  'engage',\n  'in',\n  'the',\n  'luxury',\n  'of',\n  'cooling',\n  'off',\n  'or',\n  'to',\n  'take',\n  'the',\n  'tranquilizing',\n  'drug',\n  'of',\n  'gradualism.',\n  'Now',\n  'is',\n  'the',\n  'time',\n  'to',\n  'make',\n  'real',\n  'the',\n  'promises',\n  'of',\n  'democracy.',\n  'Now',\n  'is',\n  'the',\n  'time',\n  'to',\n  'rise',\n  'from',\n  'the',\n  'dark',\n  'and',\n  'desolate',\n  'valley',\n  'of',\n  'segregation',\n  'to',\n  'the',\n  'sunlit',\n  'path',\n  'of',\n  'racial',\n  'justice.',\n  'Now',\n  'is',\n  'the',\n  'time',\n  'to',\n  'lift',\n  'our',\n  'nation',\n  'from',\n  'the',\n  'quicksands',\n  'of',\n  'racial',\n  'injustice',\n  'to',\n  'the',\n  'solid',\n  'rock',\n  'of',\n  'brotherhood.',\n  'Now',\n  'is',\n  'the',\n  'time',\n  'to',\n  'make',\n  'justice',\n  'a',\n  'reality',\n  'for',\n  'all',\n  'of',\n  \"God's\",\n  'children.\\n',\n  'It',\n  'would',\n  'be',\n  'fatal',\n  'for',\n  'the',\n  'nation',\n  'to',\n  'overlook',\n  'the',\n  'urgency',\n  'of',\n  'the',\n  'moment.',\n  'This',\n  'sweltering',\n  'summer',\n  'of',\n  'the',\n  \"Negro's\",\n  'legitimate',\n  'discontent',\n  'will',\n  'not',\n  'pass',\n  'until',\n  'there',\n  'is',\n  'an',\n  'invigorating',\n  'autumn',\n  'of',\n  'freedom',\n  'and',\n  'equality.',\n  'Nineteen',\n  'sixty-three',\n  'is',\n  'not',\n  'an',\n  'end,',\n  'but',\n  'a',\n  'beginning.',\n  'And',\n  'those',\n  'who',\n  'hope',\n  'that',\n  'the',\n  'Negro',\n  'needed',\n  'to',\n  'blow',\n  'off',\n  'steam',\n  'and',\n  'will',\n  'now',\n  'be',\n  'content',\n  'will',\n  'have',\n  'a',\n  'rude',\n  'awakening',\n  'if',\n  'the',\n  'nation',\n  'returns',\n  'to',\n  'business',\n  'as',\n  'usual.',\n  'And',\n  'there',\n  'will',\n  'be',\n  'neither',\n  'rest',\n  'nor',\n  'tranquility',\n  'in',\n  'America',\n  'until',\n  'the',\n  'Negro',\n  'is',\n  'granted',\n  'his',\n  'citizenship',\n  'rights.',\n  'The',\n  'whirlwinds',\n  'of',\n  'revolt',\n  'will',\n  'continue',\n  'to',\n  'shake',\n  'the',\n  'foundations',\n  'of',\n  'our',\n  'nation',\n  'until',\n  'the',\n  'bright',\n  'day',\n  'of',\n  'justice',\n  'emerges.\\n',\n  'But',\n  'there',\n  'is',\n  'something',\n  'that',\n  'I',\n  'must',\n  'say',\n  'to',\n  'my',\n  'people,',\n  'who',\n  'stand',\n  'on',\n  'the',\n  'warm',\n  'threshold',\n  'which',\n  'leads',\n  'into',\n  'the',\n  'palace',\n  'of',\n  'justice:',\n  'In',\n  'the',\n  'process',\n  'of',\n  'gaining',\n  'our',\n  'rightful',\n  'place,',\n  'we',\n  'must',\n  'not',\n  'be',\n  'guilty',\n  'of',\n  'wrongful',\n  'deeds.',\n  'Let',\n  'us',\n  'not',\n  'seek',\n  'to',\n  'satisfy',\n  'our',\n  'thirst',\n  'for',\n  'freedom',\n  'by',\n  'drinking',\n  'from',\n  'the',\n  'cup',\n  'of',\n  'bitterness',\n  'and',\n  'hatred.',\n  'We',\n  'must',\n  'forever',\n  'conduct',\n  'our',\n  'struggle',\n  'on',\n  'the',\n  'high',\n  'plane',\n  'of',\n  'dignity',\n  'and',\n  'discipline.',\n  'We',\n  'must',\n  'not',\n  'allow',\n  'our',\n  'creative',\n  'protest',\n  'to',\n  'degenerate',\n  'into',\n  'physical',\n  'violence.',\n  'Again',\n  'and',\n  'again,',\n  'we',\n  'must',\n  'rise',\n  'to',\n  'the',\n  'majestic',\n  'heights',\n  'of',\n  'meeting',\n  'physical',\n  'force',\n  'with',\n  'soul',\n  'force.\\n',\n  'The',\n  'marvelous',\n  'new',\n  'militancy',\n  'which',\n  'has',\n  'engulfed',\n  'the',\n  'Negro',\n  'community',\n  'must',\n  'not',\n  'lead',\n  'us',\n  'to',\n  'a',\n  'distrust',\n  'of',\n  'all',\n  'white',\n  'people,',\n  'for',\n  'many',\n  'of',\n  'our',\n  'white',\n  'brothers,',\n  'as',\n  'evidenced',\n  'by',\n  'their',\n  'presence',\n  'here',\n  'today,',\n  'have',\n  'come',\n  'to',\n  'realize',\n  'that',\n  'their',\n  'destiny',\n  'is',\n  'tied',\n  'up',\n  'with',\n  'our',\n  'destiny.',\n  'And',\n  'they',\n  'have',\n  'come',\n  'to',\n  'realize',\n  'that',\n  'their',\n  'freedom',\n  'is',\n  'inextricably',\n  'bound',\n  'to',\n  'our',\n  'freedom.\\n',\n  'We',\n  'cannot',\n  'walk',\n  'alone.\\n',\n  'And',\n  'as',\n  'we',\n  'walk,',\n  'we',\n  'must',\n  'make',\n  'the',\n  'pledge',\n  'that',\n  'we',\n  'shall',\n  'always',\n  'march',\n  'ahead.\\n',\n  'We',\n  'cannot',\n  'turn',\n  'back.\\n',\n  'There',\n  'are',\n  'those',\n  'who',\n  'are',\n  'asking',\n  'the',\n  'devotees',\n  'of',\n  'civil',\n  'rights,',\n  '\"When',\n  'will',\n  'you',\n  'be',\n  'satisfied?\"',\n  'We',\n  'can',\n  'never',\n  'be',\n  'satisfied',\n  'as',\n  'long',\n  'as',\n  'the',\n  'Negro',\n  'is',\n  'the',\n  'victim',\n  'of',\n  'the',\n  'unspeakable',\n  'horrors',\n  'of',\n  'police',\n  'brutality.',\n  'We',\n  'can',\n  'never',\n  'be',\n  'satisfied',\n  'as',\n  'long',\n  'as',\n  'our',\n  'bodies,',\n  'heavy',\n  'with',\n  'the',\n  'fatigue',\n  'of',\n  'travel,',\n  'cannot',\n  'gain',\n  'lodging',\n  'in',\n  'the',\n  'motels',\n  'of',\n  'the',\n  'highways',\n  'and',\n  'the',\n  'hotels',\n  'of',\n  'the',\n  'cities.',\n  '**We',\n  'cannot',\n  'be',\n  'satisfied',\n  'as',\n  'long',\n  'as',\n  'the',\n  \"negro's\",\n  'basic',\n  'mobility',\n  'is',\n  'from',\n  'a',\n  'smaller',\n  'ghetto',\n  'to',\n  'a',\n  'larger',\n  'one.',\n  'We',\n  'can',\n  'never',\n  'be',\n  'satisfied',\n  'as',\n  'long',\n  'as',\n  'our',\n  'children',\n  'are',\n  'stripped',\n  'of',\n  'their',\n  'self-hood',\n  'and',\n  'robbed',\n  'of',\n  'their',\n  'dignity',\n  'by',\n  'signs',\n  'stating:',\n  '\"For',\n  'Whites',\n  'Only.\"**',\n  'We',\n  'cannot',\n  'be',\n  'satisfied',\n  'as',\n  'long',\n  'as',\n  'a',\n  'Negro',\n  'in',\n  'Mississippi',\n  'cannot',\n  'vote',\n  'and',\n  'a',\n  'Negro',\n  'in',\n  'New',\n  'York',\n  'believes',\n  'he',\n  'has',\n  'nothing',\n  'for',\n  'which',\n  'to',\n  'vote.',\n  'No,',\n  'no,',\n  'we',\n  'are',\n  'not',\n  'satisfied,',\n  'and',\n  'we',\n  'will',\n  'not',\n  'be',\n  'satisfied',\n  'until',\n  '\"justice',\n  'rolls',\n  'down',\n  'like',\n  'waters,',\n  'and',\n  'righteousness',\n  'like',\n  'a',\n  'mighty',\n  'stream.\"1I',\n  'am',\n  'not',\n  'unmindful',\n  'that',\n  'some',\n  'of',\n  'you',\n  'have',\n  'come',\n  'here',\n  'out',\n  'of',\n  'great',\n  'trials',\n  'and',\n  'tribulations.',\n  'Some',\n  'of',\n  'you',\n  'have',\n  'come',\n  'fresh',\n  'from',\n  'narrow',\n  'jail',\n  'cells.',\n  'And',\n  'some',\n  'of',\n  'you',\n  'have',\n  'come',\n  'from',\n  'areas',\n  'where',\n  'your',\n  'quest',\n  '--',\n  'quest',\n  'for',\n  'freedom',\n  'left',\n  'you',\n  'battered',\n  'by',\n  'the',\n  'storms',\n  'of',\n  'persecution',\n  'and',\n  'staggered',\n  'by',\n  'the',\n  'winds',\n  'of',\n  'police',\n  'brutality.',\n  'You',\n  'have',\n  'been',\n  'the',\n  'veterans',\n  'of',\n  'creative',\n  'suffering.',\n  'Continue',\n  'to',\n  'work',\n  'with',\n  'the',\n  'faith',\n  'that',\n  'unearned',\n  'suffering',\n  'is',\n  'redemptive.',\n  'Go',\n  'back',\n  'to',\n  'Mississippi,',\n  'go',\n  'back',\n  'to',\n  ...])"
     },
     "execution_count": 1,
     "metadata": {},
     "output_type": "execute_result"
    }
   ],
   "source": [
    "# 构造字符串\n",
    "import pyhdfs\n",
    "fs = pyhdfs.HdfsClient(user_name='zzti')\n",
    "dir_input = \"/test/input/\"\n",
    "sending_arr = []\n",
    "for file in fs.listdir(dir_input):\n",
    "    for line in fs.open(dir_input+file):\n",
    "        sending_arr += str(line, encoding=\"utf-8\").split(\" \")\n",
    "len(sending_arr),sending_arr"
   ],
   "metadata": {
    "collapsed": false,
    "pycharm": {
     "name": "#%%\n"
    }
   }
  },
  {
   "cell_type": "code",
   "execution_count": null,
   "outputs": [],
   "source": [
    "# 发送\n",
    "import time\n",
    "timeStr = time.strftime(\"%Y-%m-%d-%H-%M-%S\", time.localtime())\n",
    "from kafka import KafkaProducer\n",
    "producer = KafkaProducer(bootstrap_servers='localhost:9092')\n",
    "for i,word in zip(range(len(sending_arr)), sending_arr):\n",
    "    producer.send(topic='input',\n",
    "                  key=bytes(str(i), encoding=\"utf8\"),\n",
    "                  value=bytes(timeStr+\" [\"+str(i)+\"] \"+word, encoding=\"utf8\"))\n",
    "producer.close()\n",
    "print(\"kafka发送完毕\")"
   ],
   "metadata": {
    "collapsed": false,
    "pycharm": {
     "name": "#%%\n"
    }
   }
  },
  {
   "cell_type": "code",
   "execution_count": 6,
   "outputs": [
    {
     "name": "stdout",
     "output_type": "stream",
     "text": [
      "['user_list_click', 'test_init_1', 'test_init', 'testtest', 'test_rhj', '__consumer_offsets', 'input']\n"
     ]
    },
    {
     "data": {
      "text/plain": "[{'error_code': 3, 'topic': 't', 'is_internal': False, 'partitions': []},\n {'error_code': 3, 'topic': 'p', 'is_internal': False, 'partitions': []},\n {'error_code': 3, 'topic': 'u', 'is_internal': False, 'partitions': []},\n {'error_code': 3, 'topic': 'i', 'is_internal': False, 'partitions': []},\n {'error_code': 3, 'topic': 'n', 'is_internal': False, 'partitions': []}]"
     },
     "execution_count": 6,
     "metadata": {},
     "output_type": "execute_result"
    }
   ],
   "source": [
    "# 显示kafka的topic\n",
    "import kafka\n",
    "client = kafka.KafkaAdminClient(bootstrap_servers='localhost:9092')\n",
    "print(client.list_topics())\n"
   ],
   "metadata": {
    "collapsed": false,
    "pycharm": {
     "name": "#%%\n"
    }
   }
  }
 ],
 "metadata": {
  "kernelspec": {
   "display_name": "Python 3",
   "language": "python",
   "name": "python3"
  },
  "language_info": {
   "codemirror_mode": {
    "name": "ipython",
    "version": 2
   },
   "file_extension": ".py",
   "mimetype": "text/x-python",
   "name": "python",
   "nbconvert_exporter": "python",
   "pygments_lexer": "ipython2",
   "version": "2.7.6"
  }
 },
 "nbformat": 4,
 "nbformat_minor": 0
}